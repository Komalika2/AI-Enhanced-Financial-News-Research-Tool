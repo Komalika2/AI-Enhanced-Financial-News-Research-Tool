{
 "cells": [
  {
   "cell_type": "code",
   "execution_count": 1,
   "id": "2d5693ed-8468-40a4-98f6-b3ecae79ac40",
   "metadata": {},
   "outputs": [
    {
     "name": "stdout",
     "output_type": "stream",
     "text": [
      "Defaulting to user installation because normal site-packages is not writeable\n",
      "Collecting faiss-cpu\n",
      "  Downloading faiss_cpu-1.9.0.post1-cp39-cp39-win_amd64.whl.metadata (4.5 kB)\n",
      "Collecting numpy<3.0,>=1.25.0 (from faiss-cpu)\n",
      "  Downloading numpy-2.0.2-cp39-cp39-win_amd64.whl.metadata (59 kB)\n",
      "Requirement already satisfied: packaging in c:\\users\\admin\\appdata\\roaming\\python\\python39\\site-packages (from faiss-cpu) (24.2)\n",
      "Downloading faiss_cpu-1.9.0.post1-cp39-cp39-win_amd64.whl (13.8 MB)\n",
      "   ---------------------------------------- 0.0/13.8 MB ? eta -:--:--\n",
      "   -- ------------------------------------- 0.8/13.8 MB 6.7 MB/s eta 0:00:02\n",
      "   ----------- ---------------------------- 3.9/13.8 MB 14.7 MB/s eta 0:00:01\n",
      "   --------------- ------------------------ 5.2/13.8 MB 9.7 MB/s eta 0:00:01\n",
      "   ----------------- ---------------------- 6.0/13.8 MB 8.0 MB/s eta 0:00:01\n",
      "   ------------------- -------------------- 6.8/13.8 MB 7.1 MB/s eta 0:00:01\n",
      "   ------------------------ --------------- 8.4/13.8 MB 7.3 MB/s eta 0:00:01\n",
      "   ---------------------------- ----------- 9.7/13.8 MB 6.9 MB/s eta 0:00:01\n",
      "   ----------------------------- ---------- 10.2/13.8 MB 6.7 MB/s eta 0:00:01\n",
      "   -------------------------------- ------- 11.3/13.8 MB 6.3 MB/s eta 0:00:01\n",
      "   --------------------------------- ------ 11.5/13.8 MB 6.2 MB/s eta 0:00:01\n",
      "   ---------------------------------- ----- 11.8/13.8 MB 5.8 MB/s eta 0:00:01\n",
      "   ----------------------------------- ---- 12.3/13.8 MB 5.0 MB/s eta 0:00:01\n",
      "   ------------------------------------ --- 12.6/13.8 MB 4.8 MB/s eta 0:00:01\n",
      "   ------------------------------------- -- 12.8/13.8 MB 4.5 MB/s eta 0:00:01\n",
      "   ------------------------------------- -- 13.1/13.8 MB 4.4 MB/s eta 0:00:01\n",
      "   -------------------------------------- - 13.4/13.8 MB 4.2 MB/s eta 0:00:01\n",
      "   ---------------------------------------  13.6/13.8 MB 4.1 MB/s eta 0:00:01\n",
      "   ---------------------------------------- 13.8/13.8 MB 3.9 MB/s eta 0:00:00\n",
      "Downloading numpy-2.0.2-cp39-cp39-win_amd64.whl (15.9 MB)\n",
      "   ---------------------------------------- 0.0/15.9 MB ? eta -:--:--\n",
      "    --------------------------------------- 0.3/15.9 MB ? eta -:--:--\n",
      "   - -------------------------------------- 0.5/15.9 MB 1.7 MB/s eta 0:00:10\n",
      "   - -------------------------------------- 0.8/15.9 MB 1.6 MB/s eta 0:00:10\n",
      "   --- ------------------------------------ 1.3/15.9 MB 1.6 MB/s eta 0:00:10\n",
      "   --- ------------------------------------ 1.6/15.9 MB 1.6 MB/s eta 0:00:10\n",
      "   ---- ----------------------------------- 1.8/15.9 MB 1.6 MB/s eta 0:00:09\n",
      "   ----- ---------------------------------- 2.4/15.9 MB 1.6 MB/s eta 0:00:09\n",
      "   ------ --------------------------------- 2.6/15.9 MB 1.6 MB/s eta 0:00:09\n",
      "   ------- -------------------------------- 3.1/15.9 MB 1.7 MB/s eta 0:00:08\n",
      "   -------- ------------------------------- 3.4/15.9 MB 1.7 MB/s eta 0:00:08\n",
      "   --------- ------------------------------ 3.9/15.9 MB 1.7 MB/s eta 0:00:08\n",
      "   ---------- ----------------------------- 4.2/15.9 MB 1.7 MB/s eta 0:00:07\n",
      "   ----------- ---------------------------- 4.7/15.9 MB 1.7 MB/s eta 0:00:07\n",
      "   ------------- -------------------------- 5.2/15.9 MB 1.7 MB/s eta 0:00:07\n",
      "   ------------- -------------------------- 5.5/15.9 MB 1.8 MB/s eta 0:00:06\n",
      "   --------------- ------------------------ 6.0/15.9 MB 1.8 MB/s eta 0:00:06\n",
      "   --------------- ------------------------ 6.3/15.9 MB 1.8 MB/s eta 0:00:06\n",
      "   ---------------- ----------------------- 6.6/15.9 MB 1.8 MB/s eta 0:00:06\n",
      "   ----------------- ---------------------- 7.1/15.9 MB 1.7 MB/s eta 0:00:06\n",
      "   ------------------ --------------------- 7.3/15.9 MB 1.7 MB/s eta 0:00:05\n",
      "   ------------------- -------------------- 7.9/15.9 MB 1.7 MB/s eta 0:00:05\n",
      "   -------------------- ------------------- 8.1/15.9 MB 1.7 MB/s eta 0:00:05\n",
      "   --------------------- ------------------ 8.7/15.9 MB 1.7 MB/s eta 0:00:05\n",
      "   ---------------------- ----------------- 8.9/15.9 MB 1.7 MB/s eta 0:00:05\n",
      "   ----------------------- ---------------- 9.4/15.9 MB 1.8 MB/s eta 0:00:04\n",
      "   ------------------------ --------------- 9.7/15.9 MB 1.8 MB/s eta 0:00:04\n",
      "   ------------------------- -------------- 10.2/15.9 MB 1.8 MB/s eta 0:00:04\n",
      "   --------------------------- ------------ 10.7/15.9 MB 1.8 MB/s eta 0:00:03\n",
      "   --------------------------- ------------ 11.0/15.9 MB 1.8 MB/s eta 0:00:03\n",
      "   ---------------------------- ----------- 11.5/15.9 MB 1.8 MB/s eta 0:00:03\n",
      "   ------------------------------ --------- 12.1/15.9 MB 1.8 MB/s eta 0:00:03\n",
      "   ------------------------------ --------- 12.3/15.9 MB 1.8 MB/s eta 0:00:02\n",
      "   -------------------------------- ------- 12.8/15.9 MB 1.8 MB/s eta 0:00:02\n",
      "   --------------------------------- ------ 13.4/15.9 MB 1.8 MB/s eta 0:00:02\n",
      "   ---------------------------------- ----- 13.6/15.9 MB 1.8 MB/s eta 0:00:02\n",
      "   ----------------------------------- ---- 14.2/15.9 MB 1.8 MB/s eta 0:00:01\n",
      "   ------------------------------------ --- 14.7/15.9 MB 1.8 MB/s eta 0:00:01\n",
      "   -------------------------------------- - 15.2/15.9 MB 1.9 MB/s eta 0:00:01\n",
      "   -------------------------------------- - 15.5/15.9 MB 1.9 MB/s eta 0:00:01\n",
      "   ---------------------------------------- 15.9/15.9 MB 1.8 MB/s eta 0:00:00\n",
      "Installing collected packages: numpy, faiss-cpu\n",
      "  Attempting uninstall: numpy\n",
      "    Found existing installation: numpy 1.22.4\n",
      "    Uninstalling numpy-1.22.4:\n",
      "      Successfully uninstalled numpy-1.22.4\n",
      "Successfully installed faiss-cpu-1.9.0.post1 numpy-2.0.2\n"
     ]
    },
    {
     "name": "stderr",
     "output_type": "stream",
     "text": [
      "WARNING: Ignoring invalid distribution -ip (c:\\users\\admin\\appdata\\roaming\\python\\python39\\site-packages)\n",
      "WARNING: Ignoring invalid distribution -ip (c:\\users\\admin\\appdata\\roaming\\python\\python39\\site-packages)\n",
      "WARNING: Ignoring invalid distribution -ip (c:\\users\\admin\\appdata\\roaming\\python\\python39\\site-packages)\n",
      "  WARNING: The scripts f2py.exe and numpy-config.exe are installed in 'C:\\Users\\Admin\\AppData\\Roaming\\Python\\Python39\\Scripts' which is not on PATH.\n",
      "  Consider adding this directory to PATH or, if you prefer to suppress this warning, use --no-warn-script-location.\n",
      "  WARNING: Failed to remove contents in a temporary directory 'C:\\Users\\Admin\\AppData\\Roaming\\Python\\Python39\\site-packages\\numpy\\~libs'.\n",
      "  You can safely remove it manually.\n",
      "  WARNING: Failed to remove contents in a temporary directory 'C:\\Users\\Admin\\AppData\\Roaming\\Python\\Python39\\site-packages\\numpy\\~ore'.\n",
      "  You can safely remove it manually.\n",
      "  WARNING: Failed to remove contents in a temporary directory 'C:\\Users\\Admin\\AppData\\Roaming\\Python\\Python39\\site-packages\\numpy\\~ft'.\n",
      "  You can safely remove it manually.\n",
      "  WARNING: Failed to remove contents in a temporary directory 'C:\\Users\\Admin\\AppData\\Roaming\\Python\\Python39\\site-packages\\numpy\\~inalg'.\n",
      "  You can safely remove it manually.\n",
      "  WARNING: Failed to remove contents in a temporary directory 'C:\\Users\\Admin\\AppData\\Roaming\\Python\\Python39\\site-packages\\numpy\\~andom'.\n",
      "  You can safely remove it manually.\n",
      "WARNING: Ignoring invalid distribution -ip (c:\\users\\admin\\appdata\\roaming\\python\\python39\\site-packages)\n",
      "ERROR: pip's dependency resolver does not currently take into account all the packages that are installed. This behaviour is the source of the following dependency conflicts.\n",
      "langchain 0.3.12 requires numpy<2,>=1.22.4; python_version < \"3.12\", but you have numpy 2.0.2 which is incompatible.\n",
      "langchain-community 0.3.12 requires numpy<2,>=1.22.4; python_version < \"3.12\", but you have numpy 2.0.2 which is incompatible.\n",
      "pandas 2.2.0 requires numpy<2,>=1.22.4; python_version < \"3.11\", but you have numpy 2.0.2 which is incompatible.\n",
      "scipy 1.9.3 requires numpy<1.26.0,>=1.18.5, but you have numpy 2.0.2 which is incompatible.\n",
      "unstructured 0.16.11 requires numpy<2, but you have numpy 2.0.2 which is incompatible.\n"
     ]
    },
    {
     "name": "stdout",
     "output_type": "stream",
     "text": [
      "Defaulting to user installation because normal site-packages is not writeable\n",
      "Collecting sentence-transformers\n",
      "  Downloading sentence_transformers-3.3.1-py3-none-any.whl.metadata (10 kB)\n",
      "Requirement already satisfied: transformers<5.0.0,>=4.41.0 in c:\\users\\admin\\appdata\\roaming\\python\\python39\\site-packages (from sentence-transformers) (4.47.0)\n",
      "Requirement already satisfied: tqdm in c:\\users\\admin\\appdata\\roaming\\python\\python39\\site-packages (from sentence-transformers) (4.67.1)\n",
      "Requirement already satisfied: torch>=1.11.0 in c:\\users\\admin\\appdata\\roaming\\python\\python39\\site-packages (from sentence-transformers) (2.5.1+cu118)\n",
      "Requirement already satisfied: scikit-learn in c:\\users\\admin\\appdata\\roaming\\python\\python39\\site-packages (from sentence-transformers) (1.5.2)\n",
      "Requirement already satisfied: scipy in c:\\users\\admin\\appdata\\roaming\\python\\python39\\site-packages (from sentence-transformers) (1.9.3)\n",
      "Requirement already satisfied: huggingface-hub>=0.20.0 in c:\\users\\admin\\appdata\\roaming\\python\\python39\\site-packages (from sentence-transformers) (0.26.3)\n",
      "Requirement already satisfied: Pillow in c:\\users\\admin\\appdata\\roaming\\python\\python39\\site-packages (from sentence-transformers) (11.0.0)\n",
      "Requirement already satisfied: filelock in c:\\users\\admin\\appdata\\roaming\\python\\python39\\site-packages (from huggingface-hub>=0.20.0->sentence-transformers) (3.16.1)\n",
      "Requirement already satisfied: fsspec>=2023.5.0 in c:\\users\\admin\\appdata\\roaming\\python\\python39\\site-packages (from huggingface-hub>=0.20.0->sentence-transformers) (2024.9.0)\n",
      "Requirement already satisfied: packaging>=20.9 in c:\\users\\admin\\appdata\\roaming\\python\\python39\\site-packages (from huggingface-hub>=0.20.0->sentence-transformers) (24.2)\n",
      "Requirement already satisfied: pyyaml>=5.1 in c:\\users\\admin\\appdata\\roaming\\python\\python39\\site-packages (from huggingface-hub>=0.20.0->sentence-transformers) (6.0)\n",
      "Requirement already satisfied: requests in c:\\users\\admin\\appdata\\roaming\\python\\python39\\site-packages (from huggingface-hub>=0.20.0->sentence-transformers) (2.32.3)\n",
      "Requirement already satisfied: typing-extensions>=3.7.4.3 in c:\\users\\admin\\appdata\\roaming\\python\\python39\\site-packages (from huggingface-hub>=0.20.0->sentence-transformers) (4.12.2)\n",
      "Requirement already satisfied: networkx in c:\\users\\admin\\appdata\\roaming\\python\\python39\\site-packages (from torch>=1.11.0->sentence-transformers) (3.2.1)\n",
      "Requirement already satisfied: jinja2 in c:\\users\\admin\\appdata\\roaming\\python\\python39\\site-packages (from torch>=1.11.0->sentence-transformers) (3.1.3)\n",
      "Requirement already satisfied: sympy==1.13.1 in c:\\users\\admin\\appdata\\roaming\\python\\python39\\site-packages (from torch>=1.11.0->sentence-transformers) (1.13.1)\n",
      "Requirement already satisfied: mpmath<1.4,>=1.1.0 in c:\\users\\admin\\appdata\\roaming\\python\\python39\\site-packages (from sympy==1.13.1->torch>=1.11.0->sentence-transformers) (1.3.0)\n",
      "Requirement already satisfied: colorama in c:\\program files\\python39\\lib\\site-packages (from tqdm->sentence-transformers) (0.4.4)\n",
      "Requirement already satisfied: numpy>=1.17 in c:\\users\\admin\\appdata\\roaming\\python\\python39\\site-packages (from transformers<5.0.0,>=4.41.0->sentence-transformers) (2.0.2)\n",
      "Requirement already satisfied: regex!=2019.12.17 in c:\\users\\admin\\appdata\\roaming\\python\\python39\\site-packages (from transformers<5.0.0,>=4.41.0->sentence-transformers) (2024.11.6)\n",
      "Requirement already satisfied: tokenizers<0.22,>=0.21 in c:\\users\\admin\\appdata\\roaming\\python\\python39\\site-packages (from transformers<5.0.0,>=4.41.0->sentence-transformers) (0.21.0)\n",
      "Requirement already satisfied: safetensors>=0.4.1 in c:\\users\\admin\\appdata\\roaming\\python\\python39\\site-packages (from transformers<5.0.0,>=4.41.0->sentence-transformers) (0.4.5)\n",
      "Requirement already satisfied: joblib>=1.2.0 in c:\\users\\admin\\appdata\\roaming\\python\\python39\\site-packages (from scikit-learn->sentence-transformers) (1.4.2)\n",
      "Requirement already satisfied: threadpoolctl>=3.1.0 in c:\\users\\admin\\appdata\\roaming\\python\\python39\\site-packages (from scikit-learn->sentence-transformers) (3.5.0)\n",
      "Collecting numpy>=1.17 (from transformers<5.0.0,>=4.41.0->sentence-transformers)\n",
      "  Downloading numpy-1.25.2-cp39-cp39-win_amd64.whl.metadata (5.7 kB)\n",
      "Requirement already satisfied: MarkupSafe>=2.0 in c:\\program files\\python39\\lib\\site-packages (from jinja2->torch>=1.11.0->sentence-transformers) (2.0.1)\n",
      "Requirement already satisfied: charset-normalizer<4,>=2 in c:\\users\\admin\\appdata\\roaming\\python\\python39\\site-packages (from requests->huggingface-hub>=0.20.0->sentence-transformers) (2.1.1)\n",
      "Requirement already satisfied: idna<4,>=2.5 in c:\\users\\admin\\appdata\\roaming\\python\\python39\\site-packages (from requests->huggingface-hub>=0.20.0->sentence-transformers) (3.4)\n",
      "Requirement already satisfied: urllib3<3,>=1.21.1 in c:\\users\\admin\\appdata\\roaming\\python\\python39\\site-packages (from requests->huggingface-hub>=0.20.0->sentence-transformers) (1.26.13)\n",
      "Requirement already satisfied: certifi>=2017.4.17 in c:\\users\\admin\\appdata\\roaming\\python\\python39\\site-packages (from requests->huggingface-hub>=0.20.0->sentence-transformers) (2022.12.7)\n",
      "Downloading sentence_transformers-3.3.1-py3-none-any.whl (268 kB)\n",
      "Downloading numpy-1.25.2-cp39-cp39-win_amd64.whl (15.6 MB)\n",
      "   ---------------------------------------- 0.0/15.6 MB ? eta -:--:--\n",
      "   ---------------------------------------- 0.0/15.6 MB ? eta -:--:--\n",
      "   - -------------------------------------- 0.5/15.6 MB 1.4 MB/s eta 0:00:11\n",
      "   -- ------------------------------------- 0.8/15.6 MB 1.4 MB/s eta 0:00:11\n",
      "   -- ------------------------------------- 1.0/15.6 MB 1.4 MB/s eta 0:00:11\n",
      "   --- ------------------------------------ 1.3/15.6 MB 1.5 MB/s eta 0:00:10\n",
      "   ---- ----------------------------------- 1.8/15.6 MB 1.6 MB/s eta 0:00:09\n",
      "   ----- ---------------------------------- 2.1/15.6 MB 1.7 MB/s eta 0:00:09\n",
      "   ------ --------------------------------- 2.4/15.6 MB 1.6 MB/s eta 0:00:09\n",
      "   ------- -------------------------------- 2.9/15.6 MB 1.6 MB/s eta 0:00:09\n",
      "   -------- ------------------------------- 3.1/15.6 MB 1.6 MB/s eta 0:00:08\n",
      "   --------- ------------------------------ 3.7/15.6 MB 1.6 MB/s eta 0:00:08\n",
      "   ---------- ----------------------------- 3.9/15.6 MB 1.6 MB/s eta 0:00:08\n",
      "   ----------- ---------------------------- 4.5/15.6 MB 1.7 MB/s eta 0:00:07\n",
      "   ------------ --------------------------- 5.0/15.6 MB 1.7 MB/s eta 0:00:07\n",
      "   -------------- ------------------------- 5.5/15.6 MB 1.8 MB/s eta 0:00:06\n",
      "   --------------- ------------------------ 6.0/15.6 MB 1.8 MB/s eta 0:00:06\n",
      "   ---------------- ----------------------- 6.3/15.6 MB 1.8 MB/s eta 0:00:06\n",
      "   ---------------- ----------------------- 6.6/15.6 MB 1.8 MB/s eta 0:00:06\n",
      "   ------------------ --------------------- 7.1/15.6 MB 1.8 MB/s eta 0:00:05\n",
      "   ------------------ --------------------- 7.3/15.6 MB 1.8 MB/s eta 0:00:05\n",
      "   -------------------- ------------------- 7.9/15.6 MB 1.8 MB/s eta 0:00:05\n",
      "   -------------------- ------------------- 8.1/15.6 MB 1.8 MB/s eta 0:00:05\n",
      "   ---------------------- ----------------- 8.7/15.6 MB 1.8 MB/s eta 0:00:04\n",
      "   ---------------------- ----------------- 8.9/15.6 MB 1.8 MB/s eta 0:00:04\n",
      "   ------------------------ --------------- 9.4/15.6 MB 1.8 MB/s eta 0:00:04\n",
      "   ------------------------ --------------- 9.7/15.6 MB 1.8 MB/s eta 0:00:04\n",
      "   -------------------------- ------------- 10.2/15.6 MB 1.8 MB/s eta 0:00:03\n",
      "   -------------------------- ------------- 10.5/15.6 MB 1.8 MB/s eta 0:00:03\n",
      "   ---------------------------- ----------- 11.0/15.6 MB 1.8 MB/s eta 0:00:03\n",
      "   ----------------------------- ---------- 11.5/15.6 MB 1.8 MB/s eta 0:00:03\n",
      "   ------------------------------ --------- 11.8/15.6 MB 1.8 MB/s eta 0:00:03\n",
      "   ------------------------------- -------- 12.3/15.6 MB 1.8 MB/s eta 0:00:02\n",
      "   -------------------------------- ------- 12.8/15.6 MB 1.8 MB/s eta 0:00:02\n",
      "   --------------------------------- ------ 13.1/15.6 MB 1.8 MB/s eta 0:00:02\n",
      "   ---------------------------------- ----- 13.6/15.6 MB 1.8 MB/s eta 0:00:02\n",
      "   ------------------------------------ --- 14.2/15.6 MB 1.8 MB/s eta 0:00:01\n",
      "   ------------------------------------- -- 14.4/15.6 MB 1.9 MB/s eta 0:00:01\n",
      "   -------------------------------------- - 14.9/15.6 MB 1.9 MB/s eta 0:00:01\n",
      "   ---------------------------------------  15.5/15.6 MB 1.9 MB/s eta 0:00:01\n",
      "   ---------------------------------------- 15.6/15.6 MB 1.9 MB/s eta 0:00:00\n",
      "Installing collected packages: numpy, sentence-transformers\n",
      "  Attempting uninstall: numpy\n",
      "    Found existing installation: numpy 2.0.2\n",
      "    Uninstalling numpy-2.0.2:\n",
      "      Successfully uninstalled numpy-2.0.2\n",
      "Successfully installed numpy-1.25.2 sentence-transformers-3.3.1\n"
     ]
    },
    {
     "name": "stderr",
     "output_type": "stream",
     "text": [
      "WARNING: Ignoring invalid distribution -ip (c:\\users\\admin\\appdata\\roaming\\python\\python39\\site-packages)\n",
      "WARNING: Ignoring invalid distribution -ip (c:\\users\\admin\\appdata\\roaming\\python\\python39\\site-packages)\n",
      "WARNING: Ignoring invalid distribution -ip (c:\\users\\admin\\appdata\\roaming\\python\\python39\\site-packages)\n",
      "  WARNING: The script f2py.exe is installed in 'C:\\Users\\Admin\\AppData\\Roaming\\Python\\Python39\\Scripts' which is not on PATH.\n",
      "  Consider adding this directory to PATH or, if you prefer to suppress this warning, use --no-warn-script-location.\n",
      "WARNING: Ignoring invalid distribution -ip (c:\\users\\admin\\appdata\\roaming\\python\\python39\\site-packages)\n"
     ]
    }
   ],
   "source": [
    "#Install Packages\n",
    "!pip install faiss-cpu\n",
    "!pip install sentence-transformers"
   ]
  },
  {
   "cell_type": "code",
   "execution_count": 2,
   "id": "ae6f1fa7-f038-4e8c-9c39-ffb3d6a9fbf7",
   "metadata": {},
   "outputs": [],
   "source": [
    "# import necessary libraries\n",
    "import pandas as pd\n",
    "pd.set_option('display.max_colwidth', 100)"
   ]
  },
  {
   "cell_type": "code",
   "execution_count": 3,
   "id": "95b7a6b8-c647-478f-86e6-aa218249b930",
   "metadata": {},
   "outputs": [
    {
     "data": {
      "text/plain": [
       "(8, 2)"
      ]
     },
     "execution_count": 3,
     "metadata": {},
     "output_type": "execute_result"
    }
   ],
   "source": [
    "df = pd.read_csv(\"sample_text.csv\")\n",
    "df.shape"
   ]
  },
  {
   "cell_type": "code",
   "execution_count": 4,
   "id": "d875d5d7-1662-4988-8ec3-b6781b0951ce",
   "metadata": {},
   "outputs": [
    {
     "data": {
      "text/html": [
       "<div>\n",
       "<style scoped>\n",
       "    .dataframe tbody tr th:only-of-type {\n",
       "        vertical-align: middle;\n",
       "    }\n",
       "\n",
       "    .dataframe tbody tr th {\n",
       "        vertical-align: top;\n",
       "    }\n",
       "\n",
       "    .dataframe thead th {\n",
       "        text-align: right;\n",
       "    }\n",
       "</style>\n",
       "<table border=\"1\" class=\"dataframe\">\n",
       "  <thead>\n",
       "    <tr style=\"text-align: right;\">\n",
       "      <th></th>\n",
       "      <th>text</th>\n",
       "      <th>category</th>\n",
       "    </tr>\n",
       "  </thead>\n",
       "  <tbody>\n",
       "    <tr>\n",
       "      <th>0</th>\n",
       "      <td>Meditation and yoga can improve mental health</td>\n",
       "      <td>Health</td>\n",
       "    </tr>\n",
       "    <tr>\n",
       "      <th>1</th>\n",
       "      <td>Fruits, whole grains and vegetables helps control blood pressure</td>\n",
       "      <td>Health</td>\n",
       "    </tr>\n",
       "    <tr>\n",
       "      <th>2</th>\n",
       "      <td>These are the latest fashion trends for this week</td>\n",
       "      <td>Fashion</td>\n",
       "    </tr>\n",
       "    <tr>\n",
       "      <th>3</th>\n",
       "      <td>Vibrant color jeans for male are becoming a trend</td>\n",
       "      <td>Fashion</td>\n",
       "    </tr>\n",
       "    <tr>\n",
       "      <th>4</th>\n",
       "      <td>The concert starts at 7 PM tonight</td>\n",
       "      <td>Event</td>\n",
       "    </tr>\n",
       "    <tr>\n",
       "      <th>5</th>\n",
       "      <td>Navaratri dandiya program at Expo center in Mumbai this october</td>\n",
       "      <td>Event</td>\n",
       "    </tr>\n",
       "    <tr>\n",
       "      <th>6</th>\n",
       "      <td>Exciting vacation destinations for your next trip</td>\n",
       "      <td>Travel</td>\n",
       "    </tr>\n",
       "    <tr>\n",
       "      <th>7</th>\n",
       "      <td>Maldives and Srilanka are gaining popularity in terms of low budget vacation places</td>\n",
       "      <td>Travel</td>\n",
       "    </tr>\n",
       "  </tbody>\n",
       "</table>\n",
       "</div>"
      ],
      "text/plain": [
       "                                                                                  text  \\\n",
       "0                                        Meditation and yoga can improve mental health   \n",
       "1                     Fruits, whole grains and vegetables helps control blood pressure   \n",
       "2                                    These are the latest fashion trends for this week   \n",
       "3                                    Vibrant color jeans for male are becoming a trend   \n",
       "4                                                   The concert starts at 7 PM tonight   \n",
       "5                      Navaratri dandiya program at Expo center in Mumbai this october   \n",
       "6                                    Exciting vacation destinations for your next trip   \n",
       "7  Maldives and Srilanka are gaining popularity in terms of low budget vacation places   \n",
       "\n",
       "  category  \n",
       "0   Health  \n",
       "1   Health  \n",
       "2  Fashion  \n",
       "3  Fashion  \n",
       "4    Event  \n",
       "5    Event  \n",
       "6   Travel  \n",
       "7   Travel  "
      ]
     },
     "execution_count": 4,
     "metadata": {},
     "output_type": "execute_result"
    }
   ],
   "source": [
    "df"
   ]
  },
  {
   "cell_type": "code",
   "execution_count": null,
   "id": "59d61978-c290-4963-b833-f45ef9b0946b",
   "metadata": {},
   "outputs": [],
   "source": [
    "# Step 1 : Create source embeddings for the text column"
   ]
  },
  {
   "cell_type": "code",
   "execution_count": 8,
   "id": "44223853-0d83-4c28-bdca-936df547b9ae",
   "metadata": {},
   "outputs": [],
   "source": [
    "from sentence_transformers import SentenceTransformer\n"
   ]
  },
  {
   "cell_type": "code",
   "execution_count": 9,
   "id": "01e7b4dd-23d3-490f-856c-a6a4460831b5",
   "metadata": {},
   "outputs": [
    {
     "data": {
      "application/vnd.jupyter.widget-view+json": {
       "model_id": "d7a3188bf37e4fe694d59eac61638a3b",
       "version_major": 2,
       "version_minor": 0
      },
      "text/plain": [
       "modules.json:   0%|          | 0.00/349 [00:00<?, ?B/s]"
      ]
     },
     "metadata": {},
     "output_type": "display_data"
    },
    {
     "name": "stderr",
     "output_type": "stream",
     "text": [
      "C:\\Users\\Admin\\AppData\\Roaming\\Python\\Python39\\site-packages\\huggingface_hub\\file_download.py:139: UserWarning: `huggingface_hub` cache-system uses symlinks by default to efficiently store duplicated files but your machine does not support them in C:\\Users\\Admin\\.cache\\huggingface\\hub\\models--sentence-transformers--all-mpnet-base-v2. Caching files will still work but in a degraded version that might require more space on your disk. This warning can be disabled by setting the `HF_HUB_DISABLE_SYMLINKS_WARNING` environment variable. For more details, see https://huggingface.co/docs/huggingface_hub/how-to-cache#limitations.\n",
      "To support symlinks on Windows, you either need to activate Developer Mode or to run Python as an administrator. In order to activate developer mode, see this article: https://docs.microsoft.com/en-us/windows/apps/get-started/enable-your-device-for-development\n",
      "  warnings.warn(message)\n"
     ]
    },
    {
     "data": {
      "application/vnd.jupyter.widget-view+json": {
       "model_id": "f5c95e6891234689951ba533e749a378",
       "version_major": 2,
       "version_minor": 0
      },
      "text/plain": [
       "config_sentence_transformers.json:   0%|          | 0.00/116 [00:00<?, ?B/s]"
      ]
     },
     "metadata": {},
     "output_type": "display_data"
    },
    {
     "data": {
      "application/vnd.jupyter.widget-view+json": {
       "model_id": "d2a87d8f99c04c679a0e9ca0cff106b9",
       "version_major": 2,
       "version_minor": 0
      },
      "text/plain": [
       "README.md:   0%|          | 0.00/10.6k [00:00<?, ?B/s]"
      ]
     },
     "metadata": {},
     "output_type": "display_data"
    },
    {
     "data": {
      "application/vnd.jupyter.widget-view+json": {
       "model_id": "6978b4dab1f145078a7e85b2b2ba1783",
       "version_major": 2,
       "version_minor": 0
      },
      "text/plain": [
       "sentence_bert_config.json:   0%|          | 0.00/53.0 [00:00<?, ?B/s]"
      ]
     },
     "metadata": {},
     "output_type": "display_data"
    },
    {
     "data": {
      "application/vnd.jupyter.widget-view+json": {
       "model_id": "e7dfbc2b5c7e4aaa8d93f1148dd1a81f",
       "version_major": 2,
       "version_minor": 0
      },
      "text/plain": [
       "config.json:   0%|          | 0.00/571 [00:00<?, ?B/s]"
      ]
     },
     "metadata": {},
     "output_type": "display_data"
    },
    {
     "data": {
      "application/vnd.jupyter.widget-view+json": {
       "model_id": "5f7bfd01cb444c4794d20fff1c7db15b",
       "version_major": 2,
       "version_minor": 0
      },
      "text/plain": [
       "model.safetensors:   0%|          | 0.00/438M [00:00<?, ?B/s]"
      ]
     },
     "metadata": {},
     "output_type": "display_data"
    },
    {
     "data": {
      "application/vnd.jupyter.widget-view+json": {
       "model_id": "4c553fc0446242babc03c1df2f2e2022",
       "version_major": 2,
       "version_minor": 0
      },
      "text/plain": [
       "tokenizer_config.json:   0%|          | 0.00/363 [00:00<?, ?B/s]"
      ]
     },
     "metadata": {},
     "output_type": "display_data"
    },
    {
     "data": {
      "application/vnd.jupyter.widget-view+json": {
       "model_id": "78e0a1fed60e4f619f0a221f3050bb40",
       "version_major": 2,
       "version_minor": 0
      },
      "text/plain": [
       "vocab.txt:   0%|          | 0.00/232k [00:00<?, ?B/s]"
      ]
     },
     "metadata": {},
     "output_type": "display_data"
    },
    {
     "data": {
      "application/vnd.jupyter.widget-view+json": {
       "model_id": "97635ce290e94823b256636ed0fb2a8f",
       "version_major": 2,
       "version_minor": 0
      },
      "text/plain": [
       "tokenizer.json:   0%|          | 0.00/466k [00:00<?, ?B/s]"
      ]
     },
     "metadata": {},
     "output_type": "display_data"
    },
    {
     "data": {
      "application/vnd.jupyter.widget-view+json": {
       "model_id": "d72d3163e36f43459946c3e8e1d30a81",
       "version_major": 2,
       "version_minor": 0
      },
      "text/plain": [
       "special_tokens_map.json:   0%|          | 0.00/239 [00:00<?, ?B/s]"
      ]
     },
     "metadata": {},
     "output_type": "display_data"
    },
    {
     "data": {
      "application/vnd.jupyter.widget-view+json": {
       "model_id": "58ebd34a30ee483491492134f00153ad",
       "version_major": 2,
       "version_minor": 0
      },
      "text/plain": [
       "1_Pooling/config.json:   0%|          | 0.00/190 [00:00<?, ?B/s]"
      ]
     },
     "metadata": {},
     "output_type": "display_data"
    }
   ],
   "source": [
    "encoder = SentenceTransformer(\"all-mpnet-base-v2\")\n",
    "vectors = encoder.encode(df.text)"
   ]
  },
  {
   "cell_type": "code",
   "execution_count": 11,
   "id": "2351c922-dc5f-47da-8780-618d3c48bc35",
   "metadata": {},
   "outputs": [
    {
     "data": {
      "text/plain": [
       "(8, 768)"
      ]
     },
     "execution_count": 11,
     "metadata": {},
     "output_type": "execute_result"
    }
   ],
   "source": [
    "vectors.shape"
   ]
  },
  {
   "cell_type": "code",
   "execution_count": 12,
   "id": "635ae028-2607-4cfe-97d2-3e4bea0766a8",
   "metadata": {},
   "outputs": [
    {
     "data": {
      "text/plain": [
       "768"
      ]
     },
     "execution_count": 12,
     "metadata": {},
     "output_type": "execute_result"
    }
   ],
   "source": [
    "dim = vectors.shape[1]\n",
    "dim"
   ]
  },
  {
   "cell_type": "code",
   "execution_count": 13,
   "id": "9640d768-6d32-42f6-806a-f926112dedc7",
   "metadata": {},
   "outputs": [],
   "source": [
    "# Step 2 : Build a FAISS Index for vectors\n"
   ]
  },
  {
   "cell_type": "code",
   "execution_count": 14,
   "id": "432dbfbe-ae65-4df4-8c2e-72c960cea497",
   "metadata": {},
   "outputs": [],
   "source": [
    "import faiss\n",
    "\n",
    "index = faiss.IndexFlatL2(dim)"
   ]
  },
  {
   "cell_type": "code",
   "execution_count": 15,
   "id": "bcaff032-561c-4cf1-8a51-19e37daccf67",
   "metadata": {},
   "outputs": [],
   "source": [
    "# Step 3 : Normalize the source vectors (as we are using L2 distance to measure similarity) and add to the index"
   ]
  },
  {
   "cell_type": "code",
   "execution_count": 16,
   "id": "c5cc7554-3dd1-46f9-898e-1f3b28871761",
   "metadata": {},
   "outputs": [],
   "source": [
    "index.add(vectors)\n"
   ]
  },
  {
   "cell_type": "code",
   "execution_count": 17,
   "id": "e1d0f3ba-114b-46cc-86c7-facf174387a3",
   "metadata": {},
   "outputs": [
    {
     "data": {
      "text/plain": [
       "<faiss.swigfaiss_avx2.IndexFlatL2; proxy of <Swig Object of type 'faiss::IndexFlatL2 *' at 0x0000027CDC3F0FC0> >"
      ]
     },
     "execution_count": 17,
     "metadata": {},
     "output_type": "execute_result"
    }
   ],
   "source": [
    "index"
   ]
  },
  {
   "cell_type": "code",
   "execution_count": 18,
   "id": "ae7bc849-53c8-4415-85ce-de5201775f75",
   "metadata": {},
   "outputs": [],
   "source": [
    "# Step 4 : Encode search text using same encorder and normalize the output vector\n"
   ]
  },
  {
   "cell_type": "code",
   "execution_count": 19,
   "id": "3df30c7c-b5da-4ab4-9313-1411234a0a41",
   "metadata": {},
   "outputs": [
    {
     "data": {
      "text/plain": [
       "(768,)"
      ]
     },
     "execution_count": 19,
     "metadata": {},
     "output_type": "execute_result"
    }
   ],
   "source": [
    "search_query = \"I want to buy a polo t-shirt\"\n",
    "# search_query = \"looking for places to visit during the holidays\"\n",
    "# search_query = \"An apple a day keeps the doctor away\"\n",
    "vec = encoder.encode(search_query)\n",
    "vec.shape"
   ]
  },
  {
   "cell_type": "code",
   "execution_count": 20,
   "id": "0c9be9ba-5407-449d-b215-bd06dcb94bae",
   "metadata": {},
   "outputs": [
    {
     "data": {
      "text/plain": [
       "(1, 768)"
      ]
     },
     "execution_count": 20,
     "metadata": {},
     "output_type": "execute_result"
    }
   ],
   "source": [
    "import numpy as np\n",
    "svec = np.array(vec).reshape(1,-1)\n",
    "svec.shape"
   ]
  },
  {
   "cell_type": "code",
   "execution_count": 21,
   "id": "f909aa93-2389-403d-9977-b2fe22db7eba",
   "metadata": {},
   "outputs": [],
   "source": [
    "# faiss.normalize_L2(svec)"
   ]
  },
  {
   "cell_type": "code",
   "execution_count": 22,
   "id": "0987f635-1963-4178-a206-3393b409deaf",
   "metadata": {},
   "outputs": [],
   "source": [
    "# Step 5: Search for similar vector in the FAISS index created"
   ]
  },
  {
   "cell_type": "code",
   "execution_count": 26,
   "id": "2c2cfd26-d68b-4bbc-b1a6-0caaccc0a0b9",
   "metadata": {},
   "outputs": [
    {
     "name": "stdout",
     "output_type": "stream",
     "text": [
      "Defaulting to user installation because normal site-packages is not writeable\n",
      "Requirement already satisfied: faiss-cpu in c:\\users\\admin\\appdata\\roaming\\python\\python39\\site-packages (1.9.0.post1)\n",
      "Requirement already satisfied: numpy in c:\\users\\admin\\appdata\\roaming\\python\\python39\\site-packages (1.25.2)\n",
      "Requirement already satisfied: packaging in c:\\users\\admin\\appdata\\roaming\\python\\python39\\site-packages (from faiss-cpu) (24.2)\n",
      "Note: you may need to restart the kernel to use updated packages.\n"
     ]
    },
    {
     "name": "stderr",
     "output_type": "stream",
     "text": [
      "WARNING: Ignoring invalid distribution -ip (c:\\users\\admin\\appdata\\roaming\\python\\python39\\site-packages)\n",
      "WARNING: Ignoring invalid distribution -ip (c:\\users\\admin\\appdata\\roaming\\python\\python39\\site-packages)\n",
      "WARNING: Ignoring invalid distribution -ip (c:\\users\\admin\\appdata\\roaming\\python\\python39\\site-packages)\n",
      "WARNING: Ignoring invalid distribution -ip (c:\\users\\admin\\appdata\\roaming\\python\\python39\\site-packages)\n"
     ]
    }
   ],
   "source": [
    "pip install faiss-cpu numpy"
   ]
  },
  {
   "cell_type": "code",
   "execution_count": 28,
   "id": "4d7ba1bc-8656-4173-b7a6-0cd7ce5295ee",
   "metadata": {},
   "outputs": [
    {
     "data": {
      "text/plain": [
       "array([[1.3844835, 1.4039092]], dtype=float32)"
      ]
     },
     "execution_count": 28,
     "metadata": {},
     "output_type": "execute_result"
    }
   ],
   "source": [
    "distances, I = index.search(svec, k=2)\n",
    "distances"
   ]
  },
  {
   "cell_type": "code",
   "execution_count": 29,
   "id": "91985dc8-556b-4086-b5ad-5d632cd8b1db",
   "metadata": {},
   "outputs": [
    {
     "data": {
      "text/plain": [
       "array([[3, 2]], dtype=int64)"
      ]
     },
     "execution_count": 29,
     "metadata": {},
     "output_type": "execute_result"
    }
   ],
   "source": [
    "I"
   ]
  },
  {
   "cell_type": "code",
   "execution_count": 30,
   "id": "699110a2-e16c-4e09-aedc-52df0926afa1",
   "metadata": {},
   "outputs": [
    {
     "data": {
      "text/plain": [
       "[[3, 2]]"
      ]
     },
     "execution_count": 30,
     "metadata": {},
     "output_type": "execute_result"
    }
   ],
   "source": [
    "I.tolist()"
   ]
  },
  {
   "cell_type": "code",
   "execution_count": 31,
   "id": "b6a07700-37e9-437d-b9ea-6b7fa5e40bb4",
   "metadata": {},
   "outputs": [
    {
     "data": {
      "text/plain": [
       "[3, 2]"
      ]
     },
     "execution_count": 31,
     "metadata": {},
     "output_type": "execute_result"
    }
   ],
   "source": [
    "row_indices = I.tolist()[0]\n",
    "row_indices"
   ]
  },
  {
   "cell_type": "code",
   "execution_count": 32,
   "id": "bc4683b5-209d-45e1-a2a3-5332ab2ca6aa",
   "metadata": {},
   "outputs": [
    {
     "data": {
      "text/html": [
       "<div>\n",
       "<style scoped>\n",
       "    .dataframe tbody tr th:only-of-type {\n",
       "        vertical-align: middle;\n",
       "    }\n",
       "\n",
       "    .dataframe tbody tr th {\n",
       "        vertical-align: top;\n",
       "    }\n",
       "\n",
       "    .dataframe thead th {\n",
       "        text-align: right;\n",
       "    }\n",
       "</style>\n",
       "<table border=\"1\" class=\"dataframe\">\n",
       "  <thead>\n",
       "    <tr style=\"text-align: right;\">\n",
       "      <th></th>\n",
       "      <th>text</th>\n",
       "      <th>category</th>\n",
       "    </tr>\n",
       "  </thead>\n",
       "  <tbody>\n",
       "    <tr>\n",
       "      <th>3</th>\n",
       "      <td>Vibrant color jeans for male are becoming a trend</td>\n",
       "      <td>Fashion</td>\n",
       "    </tr>\n",
       "    <tr>\n",
       "      <th>2</th>\n",
       "      <td>These are the latest fashion trends for this week</td>\n",
       "      <td>Fashion</td>\n",
       "    </tr>\n",
       "  </tbody>\n",
       "</table>\n",
       "</div>"
      ],
      "text/plain": [
       "                                                text category\n",
       "3  Vibrant color jeans for male are becoming a trend  Fashion\n",
       "2  These are the latest fashion trends for this week  Fashion"
      ]
     },
     "execution_count": 32,
     "metadata": {},
     "output_type": "execute_result"
    }
   ],
   "source": [
    "df.loc[row_indices]"
   ]
  },
  {
   "cell_type": "code",
   "execution_count": 33,
   "id": "9f7c54a8-7aac-448d-8602-eb81bd8960f6",
   "metadata": {},
   "outputs": [
    {
     "data": {
      "text/plain": [
       "'I want to buy a polo t-shirt'"
      ]
     },
     "execution_count": 33,
     "metadata": {},
     "output_type": "execute_result"
    }
   ],
   "source": [
    "search_query"
   ]
  }
 ],
 "metadata": {
  "kernelspec": {
   "display_name": "Python 3 (ipykernel)",
   "language": "python",
   "name": "python3"
  },
  "language_info": {
   "codemirror_mode": {
    "name": "ipython",
    "version": 3
   },
   "file_extension": ".py",
   "mimetype": "text/x-python",
   "name": "python",
   "nbconvert_exporter": "python",
   "pygments_lexer": "ipython3",
   "version": "3.9.7"
  }
 },
 "nbformat": 4,
 "nbformat_minor": 5
}
